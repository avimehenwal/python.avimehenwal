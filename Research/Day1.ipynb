{
 "cells": [
  {
   "cell_type": "markdown",
   "metadata": {},
   "source": [
    "### F-string formatter \n",
    "Using new string formatter (introduced in 3.5+) [PEP498](https://www.python.org/dev/peps/pep-0498/)"
   ]
  },
  {
   "cell_type": "code",
   "execution_count": 2,
   "metadata": {},
   "outputs": [
    {
     "name": "stdout",
     "output_type": "stream",
     "text": [
      "<class 'str'>\tstring\n",
      "<class 'int'>\t1\n",
      "<class 'float'>\t2.5\n",
      "<class 'dict'>\t{'key': 'value'}\n"
     ]
    }
   ],
   "source": [
    "l1 = ['string', 1, 2.5, {'key': 'value'}]\n",
    "\n",
    "for item in l1:\n",
    "    print(f\"{type(item)}\\t{item}\") "
   ]
  },
  {
   "cell_type": "code",
   "execution_count": 9,
   "metadata": {},
   "outputs": [
    {
     "name": "stdout",
     "output_type": "stream",
     "text": [
      "1,1,2,3,5,8,13,21,34,55,89,144,233,377,610,987,"
     ]
    }
   ],
   "source": [
    "# Fibonacci Series\n",
    "first, second = 0, 1           # multiple assignment\n",
    "while second < 1000:\n",
    "    #print(second)\n",
    "    print(second, end=',')     # print() bydefault in newline\n",
    "    first, second = second, first + second"
   ]
  },
  {
   "cell_type": "markdown",
   "metadata": {},
   "source": [
    "### Iterators"
   ]
  },
  {
   "cell_type": "code",
   "execution_count": 14,
   "metadata": {},
   "outputs": [
    {
     "name": "stdout",
     "output_type": "stream",
     "text": [
      "range(0, 5)\n",
      "range(0, 5)\n",
      "[0, 1, 2, 3, 4]\n"
     ]
    }
   ],
   "source": [
    "print(range(5))\n",
    "print(range(0, 5))\n",
    "\n",
    "print(list(range(5)))   # Iterator consumed my Generator function list"
   ]
  },
  {
   "cell_type": "markdown",
   "metadata": {},
   "source": [
    "Loop statements may have an `else` clause; it is executed when\n",
    "1. the loop terminates through exhaustion of the list (with for)\n",
    "2. when the condition becomes false (with while)\n",
    "\n",
    "**but not when** the loop is terminated by a `break`statement"
   ]
  },
  {
   "cell_type": "code",
   "execution_count": 24,
   "metadata": {},
   "outputs": [
    {
     "name": "stdout",
     "output_type": "stream",
     "text": [
      "[0, 1, 2, 5]\n",
      "0 1 2 5 for-else block executed\n",
      "0 1 2 "
     ]
    }
   ],
   "source": [
    "r = list(range(3))\n",
    "r.append(5)\n",
    "print(r)\n",
    "\n",
    "for i in r:\n",
    "    print(i, end=' ')\n",
    "else:\n",
    "    print('for-else block executed')\n",
    "    \n",
    "for i in r:\n",
    "    print(i, end=' ')\n",
    "    if i == 2: break\n",
    "else:\n",
    "    print('for-else block executed')"
   ]
  },
  {
   "cell_type": "code",
   "execution_count": 30,
   "metadata": {},
   "outputs": [
    {
     "name": "stdout",
     "output_type": "stream",
     "text": [
      "2 is a prime number\n",
      "3 is a prime number\n",
      "5 is a prime number\n",
      "7 is a prime number\n",
      "11 is a prime number\n",
      "13 is a prime number\n",
      "17 is a prime number\n",
      "19 is a prime number\n"
     ]
    }
   ],
   "source": [
    "for n in range(2, 20):\n",
    "     for x in range(2, n):\n",
    "         if n % x == 0:\n",
    "             #print(n, 'equals', x, '*', n//x)\n",
    "             break\n",
    "     else:\n",
    "         # loop fell through without finding a factor\n",
    "         print(n, 'is a prime number')"
   ]
  },
  {
   "cell_type": "markdown",
   "metadata": {},
   "source": [
    "### Python Functions\n",
    "\n",
    "The execution of a function introduces a new symbol table used for the local variables of the function. More precisely, all variable assignments in a function store the value in the local symbol table; whereas variable references first look in the local symbol table, then in the local symbol tables of enclosing functions, then in the global symbol table, and finally in the table of built-in names. Thus, global variables cannot be directly assigned a value within a function (unless named in a global statement), although they may be referenced.\n",
    "\n",
    "The actual parameters (arguments) to a function call are introduced in the local symbol table of the called function when it is called; thus, arguments are passed using call by value (where the value is always an object reference, not the value of the object). [1] When a function calls another function, a new local symbol table is created for that call.\n",
    "\n",
    "Coming from other languages, you might object that fib is not a function but a procedure since it doesn’t return a value. In fact, even functions without a return statement do return a value, albeit a rather boring one. This value is called None (it’s a built-in name). Writing the value None is normally suppressed by the interpreter if it would be the only value written. You can see it if you really want to using print():\n",
    "\n",
    "```python\n",
    ">>> fib(0)\n",
    ">>> print(fib(0))\n",
    "None\n",
    "```\n",
    "\n",
    "**Important warning:** The default value is evaluated only once. This makes a difference when the default is a mutable object such as a list, dictionary, or instances of most classes. For example, the following function accumulates the arguments passed to it on subsequent calls:\n",
    "\n",
    "```python\n",
    "def f(a, L=[]):\n",
    "    L.append(a)\n",
    "    return L\n",
    "\n",
    "print(f(1))\n",
    "print(f(2))\n",
    "print(f(3))\n",
    "\n",
    "[1]\n",
    "[1, 2]\n",
    "[1, 2, 3]\n",
    "```\n",
    "\n",
    "If you don’t want the default to be shared between subsequent calls, you can write the function like this instead:\n",
    "\n",
    "```python\n",
    "def f(a, L=None):\n",
    "    if L is None:\n",
    "        L = []\n",
    "    L.append(a)\n",
    "    return L\n",
    "```\n",
    "\n",
    "## [Function Annotations](https://www.python.org/dev/peps/pep-3107/)\n",
    "\n",
    "- syntax for adding arbitrary metadata annotations to Python functions\n",
    "- completely optional\n",
    "- Annotations are stored in the __annotations__ attribute of the function as a dictionary\n",
    "- WHY use them?\n",
    "\n",
    "Where use them?\n",
    "- justification of function annotation use in python?\n",
    "\n",
    "```python\n",
    ">>> def f(ham: str, eggs: str = 'eggs') -> str:\n",
    "...     print(\"Annotations:\", f.__annotations__)\n",
    "...     print(\"Arguments:\", ham, eggs)\n",
    "...     return ham + ' and ' + eggs\n",
    "...\n",
    ">>> f('spam')\n",
    "Annotations: {'ham': <class 'str'>, 'return': <class 'str'>, 'eggs': <class 'str'>}\n",
    "Arguments: spam eggs\n",
    "'spam and eggs'\n",
    "```"
   ]
  },
  {
   "cell_type": "markdown",
   "metadata": {},
   "source": [
    "#### Python list append and merging"
   ]
  },
  {
   "cell_type": "code",
   "execution_count": 35,
   "metadata": {},
   "outputs": [
    {
     "name": "stdout",
     "output_type": "stream",
     "text": [
      "[0, 1]\n",
      "[0, 1, 8, 9]\n",
      "[0, 1]\n",
      "None\n",
      "[0, 1, [8, 9]]\n"
     ]
    }
   ],
   "source": [
    "lst = list(range(2))\n",
    "print(lst)\n",
    "\n",
    "# Temperory list merge\n",
    "print(lst + [8, 9])\n",
    "print(lst)\n",
    "\n",
    "# permanent change original list\n",
    "print(lst.append([8, 9]))\n",
    "print(lst)"
   ]
  },
  {
   "cell_type": "markdown",
   "metadata": {},
   "source": [
    "### Arbitrary Argument List\n",
    "\n",
    "- `*args` passed as tuples\n",
    "- Any formal parameters which occur after the *args parameter are ‘keyword-only’ arguments\n",
    "\n",
    "```python\n",
    "def concat(*args, sep=\"/\"):\n",
    "```\n",
    "dictionaries can deliver keyword arguments with the ******-operator\n"
   ]
  },
  {
   "cell_type": "markdown",
   "metadata": {},
   "source": [
    "### Lambda Expression\n",
    "\n",
    "- Small anonymous functions can be created with the lambda keyword.\n",
    "- Lambda functions can be used wherever function objects are required\n",
    "- They are syntactically restricted to a single expression.\n",
    "- Semantically, they are just syntactic sugar for a normal function definition. Like nested function definitions, lambda functions can reference variables from the containing scope:\n",
    "\n",
    "#### Uses\n",
    "\n",
    "1. as a function in return expression\n",
    "```python\n",
    ">>> def make_incrementor(n):\n",
    "...     return lambda x: x + n\n",
    "```\n",
    "2. Another use is to pass a small function as an argument\n",
    "```python\n",
    ">>> pairs = [(1, 'one'), (2, 'two'), (3, 'three'), (4, 'four')]\n",
    ">>> pairs.sort(key=lambda pair: pair[1])\n",
    ">>> pairs\n",
    "[(4, 'four'), (1, 'one'), (3, 'three'), (2, 'two')]\n",
    "```"
   ]
  },
  {
   "cell_type": "markdown",
   "metadata": {},
   "source": [
    "## Data Structures\n",
    "\n",
    "#### lists as STACKS LIFO using .append() and .pop()\n",
    "\n",
    "```python\n",
    ">>> stack = [3, 4, 5]\n",
    ">>> stack.append(6)\n",
    ">>> stack.append(7)\n",
    ">>> stack\n",
    "[3, 4, 5, 6, 7]\n",
    ">>> stack.pop()\n",
    "7\n",
    ">>> stack\n",
    "[3, 4, 5, 6]\n",
    ">>> stack.pop()\n",
    "6\n",
    ">>> stack.pop()\n",
    "5\n",
    ">>> stack\n",
    "[3, 4]\n",
    "```\n",
    "#### QUEUES FIFO\n",
    "\n",
    "- lists are not efficient for this purpose, While appends and pops from the end of list are fast, doing inserts or pops from the beginning of a list is slow (because all of the other elements have to be shifted by one)\n",
    "- To implement a queue, use `collections.deque` which was designed to have fast appends and pops from both ends.\n",
    "\n",
    "```python\n",
    ">>> from collections import deque\n",
    ">>> queue = deque([\"Eric\", \"John\", \"Michael\"])\n",
    ">>> queue.append(\"Terry\")           # Terry arrives\n",
    ">>> queue.append(\"Graham\")          # Graham arrives\n",
    ">>> queue.popleft()                 # The first to arrive now leaves\n",
    "'Eric'\n",
    ">>> queue.popleft()                 # The second to arrive now leaves\n",
    "'John'\n",
    ">>> queue                           # Remaining queue in order of arrival\n",
    "deque(['Michael', 'Terry', 'Graham'])\n",
    "```\n",
    "\n",
    "### List comprehension - shorthand to list creation\n",
    "```python\n",
    "squares = [x**2 for x in range(10)]\n",
    "\n",
    "# Nested List Comprehension\n",
    "[[row[i] for row in matrix] for i in range(4)]\n",
    "```\n",
    "\n",
    "#### Sequences Type\n",
    "1. Lists\n",
    "2. Tuples\n",
    "3. Range\n",
    "\n",
    "#### Tuple Sequence Packing and Unpacking\n",
    "```python\n",
    "# Tuple Packing\n",
    "seq = 'one', 'two', 3, {'key': 'value'}\n",
    "print(seq)\n",
    ">>> ('one', 'two', 3, {'key': 'value'})\n",
    "type(seq)\n",
    "tuple\n",
    "\n",
    "# Tuple Unpacking\n",
    "In [16]: a, b, c = seq\n",
    "---------------------------------------------------------------------------\n",
    "ValueError                                Traceback (most recent call last)\n",
    "<ipython-input-16-a66842c907b4> in <module>()\n",
    "----> 1 a, b, c = seq\n",
    "\n",
    "ValueError: too many values to unpack (expected 3)\n",
    "\n",
    "In [17]: a, b, c, d = seq\n",
    "\n",
    "In [18]: print(a,b,c,d)\n",
    "one two 3 {'key': 'value'}\n",
    "\n",
    "In [19]: \n",
    "```\n",
    "\n",
    "### Sets\n",
    "- no duplicates\n",
    "- mathematical and local data manipulation\n",
    "\n",
    "```python\n",
    ">>> # Demonstrate set operations on unique letters from two words\n",
    "...\n",
    ">>> a = set('abracadabra')\n",
    ">>> b = set('alacazam')\n",
    ">>> a                                  # unique letters in a\n",
    "{'a', 'r', 'b', 'c', 'd'}\n",
    ">>> a - b                              # letters in a but not in b\n",
    "{'r', 'd', 'b'}\n",
    ">>> a | b                              # UNION\n",
    "{'a', 'c', 'r', 'd', 'b', 'm', 'z', 'l'}\n",
    ">>> a & b                              # INTERSECTION\n",
    "{'a', 'c'}\n",
    ">>> a ^ b                              # letters in a or b but not both\n",
    "{'r', 'd', 'b', 'm', 'z', 'l'}\n",
    "```\n",
    "\n",
    "#### Dictionary Comprehension\n",
    "```python\n",
    ">>> {x: x**2 for x in (2, 4, 6)}\n",
    "{2: 4, 4: 16, 6: 36}\n",
    "```\n",
    "\n",
    "### Comparing Sequences and Other Types"
   ]
  },
  {
   "cell_type": "markdown",
   "metadata": {},
   "source": [
    "### Modules\n",
    "- A module can contain executable statements as well as function definitions\n",
    "- what? why? how to create? how to use? how to run?\n",
    "\n",
    "#### Modules Search Path\n",
    "When a module named spam is imported, the interpreter first searches for a built-in module with that name. If not found, it then searches for a file named spam.py in a list of directories given by the variable `sys.path`. sys.path is initialized from these locations:\n",
    "\n",
    "1. The directory containing the input script (or the current directory when no file is specified).\n",
    "2. PYTHONPATH (a list of directory names, with the same syntax as the shell variable PATH).\n",
    "3. The installation-dependent default.\n",
    "\n",
    "#### Compiled python files\n",
    "- To speed up loading modules, Python caches the compiled version of each module in the **\\__pycache__** directory under the name module.version.pyc, where the version encodes the format of the compiled file\n",
    "- Python checks the modification date of the source against the compiled version to see if it’s out of date and needs to be recompiled. This is a completely automatic process. Also, the compiled modules are platform-independent, so the same library can be shared among systems with different architectures.\n",
    "- More on [.pyc files](https://www.python.org/dev/peps/pep-3147/)\n",
    "- Python standard modules - Python Library Reference\n",
    "\n",
    "### Packages\n",
    "- collections of multiple modules\n",
    "\n",
    "The **\\__init__.py** files are required to make Python treat the directories as containing packages; this is done to prevent directories with a common name, such as string, from unintentionally hiding valid modules that occur later on the module search path. In the simplest case, **\\__init__.py** can just be an empty file, but it can also execute initialization code for the package or set the **\\__all__** variable\n",
    "\n",
    "#### controlling imports. Refactoring `from xyz import *`\n",
    "package’s \\__init__.py code defines a **list** named **\\__all__**, it is taken to be the list of module names that should be imported when from package import * is encountered.\n",
    "\n",
    "```python\n",
    "# contents of __init.py__\n",
    "__all__ = [\"echo\", \"surround\", \"reverse\"]\n",
    "```"
   ]
  },
  {
   "cell_type": "markdown",
   "metadata": {},
   "source": [
    "### Input Output\n",
    "\n",
    "how do you convert values to strings? Luckily, Python has ways to convert any value to a string: pass it to the `repr()` or `str()` functions. The str() function is meant to return representations of values which are fairly human-readable, while repr() is meant to generate representations which can be read by the interpreter (or will force a SyntaxError if there is no equivalent syntax). For objects which don’t have a particular representation for human consumption, str() will return the same value as repr(). Many values, such as numbers or structures like lists and dictionaries, have same representation using either function. Strings, in particular, have two distinct representations.\n",
    "\n",
    "#### pickle\n",
    "The pickle module implements binary protocols for serializing and de-serializing a Python object structure. “Pickling” is the process whereby a Python object hierarchy is converted into a byte stream, and “unpickling” is the inverse operation, whereby a byte stream (from a binary file or bytes-like object) is converted back into an object hierarchy. Pickling (and unpickling) is alternatively known as “serialization”, “marshalling,” [1] or “flattening”; however, to avoid confusion, the terms used here are “pickling” and “unpickling”.\n",
    "\n",
    "#### user defined exception derieved from `Exception` class\n",
    "\n",
    "#### cleanup Actions using `finally` block structure\n",
    "\n",
    "#### Note on predefine cleanup actions\n",
    "1. use `with` while handling files. No need to remember file closing. Saves accidental bugs\n"
   ]
  },
  {
   "cell_type": "code",
   "execution_count": null,
   "metadata": {},
   "outputs": [],
   "source": []
  },
  {
   "cell_type": "markdown",
   "metadata": {},
   "source": [
    "## Classes\n",
    "\n",
    "- means of bundling data and functionality together\n",
    "- blueprints for multiple instances / objects\n",
    "- `attributes` and `behaviours`\n",
    "- Attributes may be _read-only_ or _writable_\n",
    "- Dynamic classes - created at runtime, and can be modified further after creation.\n",
    "\n",
    "### Aliasing / Bound class\n",
    "- liases behave like pointers in some respects. \n",
    "- Objects have individuality, and multiple names (in multiple scopes) can be bound to the same object. This is known as aliasing in other languages.\n",
    "- safely ignored when dealing with immutable basic types (numbers, strings, tuples)\n",
    "- surprising effect on the semantics of Python code involving mutable objects such as lists, dictionaries, and most other types.\n",
    "- passing an object is cheap since only a pointer is passed by the implementation; and if a function modifies an object passed as an argument, the caller will see the change — this eliminates the need for two different argument passing mechanisms\n",
    "\n",
    "#### Namespace\n",
    "- A namespace is a mapping from names to objects.\n",
    "- Most namespaces are currently implemented as Python dictionaries\n",
    "- Namespaces are created at different moments and have different lifetimes. Eg. The namespace containing the built-in names is created when the Python interpreter starts up, and is never deleted. The global namespace for a module is created when the module definition is read in; normally, module namespaces also last until the interpreter quits. The statements executed by the top-level invocation of the interpreter, either read from a script file or interactively, are considered part of a module called __main__, so they have their own global namespace. (The built-in names actually also live in a module; this is called builtins.). The local namespace for a function is created when the function is called, and deleted when the function returns or raises an exception that is not handled within the function. (Actually, forgetting would be a better way to describe what actually happens.) Of course, recursive invocations each have their own local namespace.\n",
    "- example of Namespaces - the set of built-in names (containing functions such as abs(), and built-in exception names); the global names in a module; and the local names in a function invocation\n",
    "- If a name is declared global, then all references and assignments go directly to the middle scope containing the module’s global names. \n",
    "- Assignments do not copy data — they just bind names to objects.\n",
    "- The same is true for deletions: the statement del x removes the binding of x from the namespace referenced by the local scope. In fact, all operations that introduce new names use the local scope: in particular, import statements and function definitions bind the module or function name in the local scope.\n",
    "- to rebind variables found outside of the innermost scope, the `nonlocal` statement can be used; if not declared nonlocal, those variables are read-only (an attempt to write to such a variable will simply create a new local variable in the innermost scope, leaving the identically named outer variable unchanged).\n",
    "- Class Inheritance, Multiple Inheritance\n",
    "- Class and Instance Variables\n",
    "- Data attributes override method attributes with the same name; to avoid accidental name conflicts, which may cause hard-to-find bugs in large programs, it is wise to use some kind of convention that minimizes the chance of conflicts. Possible conventions include capitalizing method names, prefixing data attribute names with a small unique string (perhaps just an underscore), or using verbs for methods and nouns for data attributes.\n",
    "- **Private** instance variables that cannot be accessed except from inside an object don’t exist in Python\n",
    "\n",
    "#### Iterator vs Generators\n",
    "- Iterator protocol\n",
    "- saves memory\n",
    "- `iter()` container `next()` method `StopIteration` Exception\n",
    "\n",
    "- `Generators` are a simple and powerful tool for creating iterators\n",
    "- yeilds objects\n",
    "- Generator Expressions - simple generators can be coded succinctly as expressions using a syntax similar to list comprehensions but with parentheses instead of square brackets.\n",
    "` sum(i*i for i in range(10)) `"
   ]
  },
  {
   "cell_type": "markdown",
   "metadata": {},
   "source": [
    "#### Executable python scripts - Shebang header\n",
    "\n",
    "- unix script, interpreter in \\$PATH\n",
    "- change file mode/permission to executable\n",
    "```\n",
    "#!/usr/bin/env python3.5\n",
    "```\n",
    "- When you use Python interactively, it is frequently handy to have some standard commands executed every time the interpreter is started. You can do this by setting an environment variable named PYTHONSTARTUP to the name of a file containing your start-up commands. This is similar to the .profile feature of the Unix shells."
   ]
  },
  {
   "cell_type": "markdown",
   "metadata": {},
   "source": [
    "## Cool Tricks\n",
    "\n",
    "### Changing python prompt\n",
    "```python\n",
    ">>> import sys\n",
    ">>> sys.ps1\n",
    "'>>> '\n",
    ">>> sys.ps2\n",
    "'... '\n",
    ">>> sys.ps1 = 'C> '\n",
    "C> print('Yuck!')\n",
    "Yuck!\n",
    "C>\n",
    "```\n"
   ]
  }
 ],
 "metadata": {
  "kernelspec": {
   "display_name": "Python 3",
   "language": "python",
   "name": "python3"
  },
  "language_info": {
   "codemirror_mode": {
    "name": "ipython",
    "version": 3
   },
   "file_extension": ".py",
   "mimetype": "text/x-python",
   "name": "python",
   "nbconvert_exporter": "python",
   "pygments_lexer": "ipython3",
   "version": "3.6.5"
  }
 },
 "nbformat": 4,
 "nbformat_minor": 2
}
