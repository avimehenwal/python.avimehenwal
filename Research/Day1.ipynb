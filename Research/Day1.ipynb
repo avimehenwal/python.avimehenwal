{
 "cells": [
  {
   "cell_type": "markdown",
   "metadata": {},
   "source": [
    "### F-string formatter \n",
    "Using new string formatter (introduced in 3.5+) [PEP498](https://www.python.org/dev/peps/pep-0498/)"
   ]
  },
  {
   "cell_type": "code",
   "execution_count": 2,
   "metadata": {},
   "outputs": [
    {
     "name": "stdout",
     "output_type": "stream",
     "text": [
      "<class 'str'>\tstring\n",
      "<class 'int'>\t1\n",
      "<class 'float'>\t2.5\n",
      "<class 'dict'>\t{'key': 'value'}\n"
     ]
    }
   ],
   "source": [
    "l1 = ['string', 1, 2.5, {'key': 'value'}]\n",
    "\n",
    "for item in l1:\n",
    "    print(f\"{type(item)}\\t{item}\") "
   ]
  },
  {
   "cell_type": "code",
   "execution_count": 9,
   "metadata": {},
   "outputs": [
    {
     "name": "stdout",
     "output_type": "stream",
     "text": [
      "1,1,2,3,5,8,13,21,34,55,89,144,233,377,610,987,"
     ]
    }
   ],
   "source": [
    "# Fibonacci Series\n",
    "first, second = 0, 1           # multiple assignment\n",
    "while second < 1000:\n",
    "    #print(second)\n",
    "    print(second, end=',')     # print() bydefault in newline\n",
    "    first, second = second, first + second"
   ]
  },
  {
   "cell_type": "markdown",
   "metadata": {},
   "source": [
    "### Iterators"
   ]
  },
  {
   "cell_type": "code",
   "execution_count": 14,
   "metadata": {},
   "outputs": [
    {
     "name": "stdout",
     "output_type": "stream",
     "text": [
      "range(0, 5)\n",
      "range(0, 5)\n",
      "[0, 1, 2, 3, 4]\n"
     ]
    }
   ],
   "source": [
    "print(range(5))\n",
    "print(range(0, 5))\n",
    "\n",
    "print(list(range(5)))   # Iterator consumed my Generator function list"
   ]
  },
  {
   "cell_type": "markdown",
   "metadata": {},
   "source": [
    "Loop statements may have an `else` clause; it is executed when\n",
    "1. the loop terminates through exhaustion of the list (with for)\n",
    "2. when the condition becomes false (with while)\n",
    "\n",
    "**but not when** the loop is terminated by a `break`statement"
   ]
  },
  {
   "cell_type": "code",
   "execution_count": 24,
   "metadata": {},
   "outputs": [
    {
     "name": "stdout",
     "output_type": "stream",
     "text": [
      "[0, 1, 2, 5]\n",
      "0 1 2 5 for-else block executed\n",
      "0 1 2 "
     ]
    }
   ],
   "source": [
    "r = list(range(3))\n",
    "r.append(5)\n",
    "print(r)\n",
    "\n",
    "for i in r:\n",
    "    print(i, end=' ')\n",
    "else:\n",
    "    print('for-else block executed')\n",
    "    \n",
    "for i in r:\n",
    "    print(i, end=' ')\n",
    "    if i == 2: break\n",
    "else:\n",
    "    print('for-else block executed')"
   ]
  },
  {
   "cell_type": "code",
   "execution_count": 29,
   "metadata": {},
   "outputs": [
    {
     "name": "stdout",
     "output_type": "stream",
     "text": [
      "2 is a prime number\n",
      "3 is a prime number\n",
      "5 is a prime number\n",
      "7 is a prime number\n",
      "11 is a prime number\n",
      "13 is a prime number\n",
      "17 is a prime number\n",
      "19 is a prime number\n"
     ]
    }
   ],
   "source": [
    "for n in range(2, 20):\n",
    "     for x in range(2, n):\n",
    "         if n % x == 0:\n",
    "             #print(n, 'equals', x, '*', n//x)\n",
    "             break\n",
    "     else:\n",
    "         # loop fell through without finding a factor\n",
    "         print(n, 'is a prime number')"
   ]
  },
  {
   "cell_type": "code",
   "execution_count": null,
   "metadata": {},
   "outputs": [],
   "source": []
  }
 ],
 "metadata": {
  "kernelspec": {
   "display_name": "Python 3",
   "language": "python",
   "name": "python3"
  },
  "language_info": {
   "codemirror_mode": {
    "name": "ipython",
    "version": 3
   },
   "file_extension": ".py",
   "mimetype": "text/x-python",
   "name": "python",
   "nbconvert_exporter": "python",
   "pygments_lexer": "ipython3",
   "version": "3.6.5"
  }
 },
 "nbformat": 4,
 "nbformat_minor": 2
}
